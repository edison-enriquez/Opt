{
 "cells": [
  {
   "cell_type": "code",
   "execution_count": null,
   "metadata": {},
   "outputs": [],
   "source": []
  },
  {
   "cell_type": "markdown",
   "metadata": {},
   "source": [
    "# Code\n",
    "Mathematicians, economists, and analysts use the term __zero-sum game__ throughout game theory and economic theory. \n",
    "It describes __financial gains__ for one player that cause an equal amount of loss for the other player. \n",
    "The net change in wealth in these situations is zero, since it is neither destroyed nor created, only redistributed."
   ]
  },
  {
   "cell_type": "markdown",
   "metadata": {},
   "source": [
    "## What is a zero sum game?\n",
    "\n",
    "A zero-sum game is a situation in which one person's loss in a transaction is equal to another's gain. \n",
    "After gains and losses, the net effect on both parties equals zero. This is because the zero-sum game model includes all resources at the beginning, which means that the supply of resources cannot shrink, cannot grow, and there can be no outside intervention. \n",
    "\n",
    "> The zero-sum game can only allow the redistribution of the initial amount of resources.\n",
    "\n",
    "The idea of ​​the zero-sum game is part of game theory, which is a theoretical framework for studying social situations with individuals competing with each other. \n",
    "Game theory studies optimal decision making and strategic moves between two or more players competing with each other. A zero-sum game can have an unlimited number of players as long as for every individual who wins something, there is a counter-individual who loses something. In this situation there is more demand than supply, but no more resources can be added. Therefore, the only way to satisfy demand is through redistribution."
   ]
  },
  {
   "cell_type": "markdown",
   "metadata": {},
   "source": [
    "## the concept of zero sum game\n",
    "The zero-sum game concept has its origin in the idea that a victory is only possible at the cost of the loss of an opponent. \n",
    "\n",
    "This idea may represent an old fallacy that finance and economics are immutable and fixed. Today, modern finance and economics are much broader in scope, suggesting that this is not always the case. Today, we understand that there may be win-win benefits for both parties."
   ]
  },
  {
   "cell_type": "markdown",
   "metadata": {},
   "source": [
    "## The importance of a zero sum game\n",
    "\n",
    "The concept of a zero-sum game is important because it is used by people in a wide variety of sectors, such as economics, finance, and experimental economics.\n",
    "When people apply the zero-sum game to these industries with mathematical equations and formulas, they can predict the outcome of a transaction. Experimental economics takes into account many factors, such as losses, gains, individual behavior, and optimization, to test economic theories and gain insight into the real world. \n",
    "\n",
    "Although a zero-sum game involves two different parties, the outcome of a zero-sum game could affect millions of people, depending on the size of the parties involved."
   ]
  },
  {
   "cell_type": "markdown",
   "metadata": {},
   "source": [
    "## MAXIMIN - MINIMAX\n",
    "\n",
    "| Strategy   |  1  |  2  |  3  |  maximin \n",
    "| :--------: | :-: | :-: | :-: | :-----:  \n",
    "| 1          | -3  |  3  |  2  |  -3\n",
    "| 2          |**0**|  4  |  1  | **0**\n",
    "| 3          | -1  | -2  |  3  |  -2\n",
    "| minimax    |**0**|  4  |  3  |   \n",
    "\n",
    "El punto de equilibrio es la estrategia 1 para el jugador 2 \n",
    "\n",
    "| Strategy   |  1  |  2  |  3  |  maximin \n",
    "| :--------: | :-: | :-: | :-: | :-----: \n",
    "| 1          |  2  | -1  |  4  |   -1\n",
    "| 2          |  0  |  3  | -2  |   -2\n",
    "| 3          |  1  |  1  |  0  |  **0**\n",
    "| minimax    |**2**|  3  |  4  |    \n",
    "\n",
    "No encontramos un punto de equilibrio\n",
    "\n",
    "| Strategy   |  1  |  2  |  3  |  maximin \n",
    "| :--------: | :-: | :-: | :-: | :-----: \n",
    "| 1          |  1  |  4  | -1  |   -1\n",
    "| 2          |  1  | -3  | -2  |   -3\n",
    "| 3          |  3  |  3  |**2**|  **2**\n",
    "| minimax    |  3  |  4  |**2**|    \n",
    "\n",
    "[`code`](#code)"
   ]
  }
 ],
 "metadata": {
  "language_info": {
   "name": "python"
  },
  "orig_nbformat": 4
 },
 "nbformat": 4,
 "nbformat_minor": 2
}
