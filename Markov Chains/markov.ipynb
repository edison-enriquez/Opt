{
 "cells": [
  {
   "cell_type": "code",
   "execution_count": null,
   "metadata": {},
   "outputs": [],
   "source": [
    "text = \"\"\"El unicornio es una criatura mitologica representada habitualmente como un caballo blanco con patas de antilope, barba de chivo y un cuerno en la frente. En las representaciones modernas, sin embargo, es identico a un caballo, solo diferenciandose en la existencia del cuerno mencionado. \n",
    "El unicornio es protagonista de numerosas historias y leyendas. En la Edad Media significaba fuerza y estaba considerado como un animal fabuloso capaz de derrotar a animales mas fuertes fisicamente, incluso elefantes. Existen tres hipotesis que intentan explicar la aparicion de la leyenda del unicornio en Europa: \n",
    "La primera procede de las exploraciones griega, romana y macedonia en la India: existian relatos de criaturas de un solo cuerno, probablemente rinocerontes indicos. \n",
    "Si el hipopotamo fue llamado caballo de rio por los exploradores griegos, parece verosimil suponer que igualmente describirian a un rinoceronte indio como un caballo con un cuerno sobre la cabeza. La segunda proviene de los pueblos vikingos que comerciaban en el interior de Europa dientes de narval las primeras \n",
    "representaciones artisticas conocidas de este cetaceo en el interior de Europa eran similares a un unicornio marino. Muy probablemente, y puesto que el mito esta documentado desde la antigua Grecia, los pueblos nordicos tan solo aprovecharon la leyenda preexistente para vender colmillos de narval como si fueran cuernos de unicornio, asociados a todo tipo \n",
    "de propiedades curativas. Los duendes son criaturas mitologicas fantasticas de forma humanoide pero del tamano de un nino pequeno que estan presentes en el folclore de muchas culturas. \n",
    "\"\"\""
   ]
  },
  {
   "cell_type": "code",
   "execution_count": null,
   "metadata": {},
   "outputs": [],
   "source": [
    "def ngrams(n):\n",
    "    ngram = {}\n",
    "    for i in range(len(text)-n):\n",
    "        #print(text[i: i + n])\n",
    "        if text[i: i + n] in ngram:\n",
    "            pass\n",
    "        else:\n",
    "            ngram[(text[i: i + n])] = []\n",
    "        \n",
    "        ngram[(text[i: i + n])].append(text[i + n])\n",
    "    return ngram"
   ]
  },
  {
   "cell_type": "code",
   "execution_count": null,
   "metadata": {},
   "outputs": [],
   "source": [
    "my_dict = {\"Name\":[],\"Address\":[],\"Age\":[]};\n",
    "my_dict['Nkey']=[]\n",
    "my_dict"
   ]
  },
  {
   "cell_type": "code",
   "execution_count": null,
   "metadata": {},
   "outputs": [],
   "source": [
    "lista = ngrams(3)"
   ]
  },
  {
   "cell_type": "code",
   "execution_count": null,
   "metadata": {},
   "outputs": [],
   "source": [
    "import random\n",
    "\n",
    "n = 8\n",
    "lista = ngrams(n)\n",
    "posibilidades_Array = []\n",
    "posibleSigLetra = 0\n",
    "letraSigiente = ''\n",
    "\n",
    "keys = [*lista]\n",
    "ngramaActual = keys[random.randint(0, len(keys)-1)]\n",
    "ngramaActual\n",
    "\n",
    "#ngramaActual = text[0: n]\n",
    "resultado = ngramaActual\n",
    "\n",
    "for i in range(500):\n",
    "    pos_Array = lista[ngramaActual]\n",
    "    posibleSigLetra = random.randint(0, len(pos_Array)-1)\n",
    "    letraSigiente = pos_Array[posibleSigLetra]\n",
    "\n",
    "    resultado += letraSigiente\n",
    "    inicioPos = len(resultado)-n\n",
    "    finPos = len(resultado)\n",
    "    ngramaActual = resultado[inicioPos: finPos]\n",
    "\n",
    "print(resultado)"
   ]
  }
 ],
 "metadata": {
  "language_info": {
   "name": "python"
  },
  "orig_nbformat": 4
 },
 "nbformat": 4,
 "nbformat_minor": 2
}
