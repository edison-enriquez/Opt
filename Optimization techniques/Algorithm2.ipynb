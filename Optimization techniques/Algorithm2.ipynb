{
 "cells": [
  {
   "cell_type": "code",
   "execution_count": null,
   "metadata": {},
   "outputs": [],
   "source": []
  },
  {
   "cell_type": "markdown",
   "metadata": {},
   "source": [
    "# __Golden-section search__\n",
    "\n",
    "\n",
    "| __Algoritmo 2__ Golden-section search |\n",
    "| -----------------------------------------------|\n",
    "| __Input__: $x_u, x_l,f(x)$\n",
    "| __Output__: $x$\n",
    "| &emsp; ___While___ $x_u - x_l > Tol$ ___do___:\n",
    "| &emsp;&emsp; $d = R\\cdot (x_u-x_l)$\n",
    "| &emsp;&emsp; $x_1 = x_l+d$\n",
    "| &emsp;&emsp; $x_2 = x_u-d$\n",
    "| &emsp;&emsp; $k = k + 1$\n",
    "| &emsp;&emsp; _if_ $f(x_1)< f(x_2)$:\n",
    "| &emsp;&emsp;&emsp; $x_1 ← x_2$\n",
    "| &emsp;&emsp; _else_:\n",
    "| &emsp;&emsp;&emsp; $x_u ← x_1$  \n",
    "| &emsp; ___end___\n",
    "| &emsp; _if_ $f(x_1) < f(x_2)$:\n",
    "| &emsp;&emsp;return $x_1$"
   ]
  },
  {
   "cell_type": "code",
   "execution_count": null,
   "metadata": {},
   "outputs": [],
   "source": [
    "R = (np.sqrt(5)-1)/2\n",
    "R"
   ]
  },
  {
   "cell_type": "code",
   "execution_count": null,
   "metadata": {},
   "outputs": [],
   "source": [
    "xi = 0\n",
    "xu = 4\n",
    "Tol  = 0.001\n",
    "k=0\n",
    "d = R*(xu -xi)\n",
    "x1 = xi+d\n",
    "x2 = xu-d\n",
    "column_names = [\"k\",  \"xi\", \"fi\", \"x2\", \"f2\", \"x1\", \"f1\", \"xu\", \"fu\", \"d\"]\n",
    "df = pd.DataFrame(columns = column_names)\n",
    "\n",
    "while xu -xi > Tol:\n",
    "  d = R*(xu -xi)\n",
    "  x1 = xi+d\n",
    "  x2 = xu-d\n",
    "  \n",
    "  new_row = {'k': k,  \"xi\": xi, \"fi\": fun(xi),  'x2': x2, 'f2': fun(x2), 'x1': x1, 'f1': fun(x1), 'xu': xu, \n",
    "       'fu': fun(xu), 'd': d}\n",
    "  df = df.append(new_row, ignore_index = True)\n",
    "  k = k+1\n",
    "  if fun(x1) < fun(x2):\n",
    "    xi = x2\n",
    "  else:\n",
    "    xu = x1\n",
    "  \n",
    "if fun(x1) < fun(x2):\n",
    "  print(x1, fun(x1), k-1)\n",
    "else:\n",
    "  print(x2, fun(x2), k-1)"
   ]
  },
  {
   "cell_type": "code",
   "execution_count": null,
   "metadata": {},
   "outputs": [],
   "source": [
    "df"
   ]
  }
 ],
 "metadata": {
  "language_info": {
   "name": "python"
  },
  "orig_nbformat": 4
 },
 "nbformat": 4,
 "nbformat_minor": 2
}
