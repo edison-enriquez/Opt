{
 "cells": [
  {
   "cell_type": "markdown",
   "metadata": {},
   "source": [
    "# __Exhaustive search algorithm__\n",
    "\n",
    "| __AlInput__: $x^{(0)}, h,f(x)$ |\n",
    "| ------ |\n",
    "| __Output__: x^{(k)}\n",
    "| &emsp; ___While___ $f(x^{(k+1)}) < f(x^{(k)}) $ ___do___:\n",
    "| &emsp;&emsp; $x^{(k+1)} = x^{(k)}+h$\n",
    "| &emsp;&emsp; $k ← k+1$\n",
    "| &emsp; ___end While___\n",
    "| &emsp;  ____return___ $x^{(k)}$"
   ]
  },
  {
   "cell_type": "markdown",
   "metadata": {},
   "source": [
    "### __e.i 1__:\n",
    "Find the minimum of the function $f(x)= -2 \\sin{(x)}+ x^2/10$, in the range of [0,4]"
   ]
  },
  {
   "cell_type": "code",
   "execution_count": null,
   "metadata": {
    "vscode": {
     "languageId": "plaintext"
    }
   },
   "outputs": [],
   "source": [
    "import numpy as np\n",
    "import pandas as pd\n",
    "import matplotlib.pyplot as plt"
   ]
  },
  {
   "cell_type": "code",
   "execution_count": null,
   "metadata": {
    "vscode": {
     "languageId": "plaintext"
    }
   },
   "outputs": [],
   "source": [
    "def fun(x):\n",
    "  return -2*np.sin(x)+(x**2)/10"
   ]
  },
  {
   "cell_type": "code",
   "execution_count": null,
   "metadata": {
    "vscode": {
     "languageId": "plaintext"
    }
   },
   "outputs": [],
   "source": [
    "x = np.arange(0,1,0.1)\n",
    "y = fun(x)"
   ]
  },
  {
   "cell_type": "code",
   "execution_count": null,
   "metadata": {
    "vscode": {
     "languageId": "plaintext"
    }
   },
   "outputs": [],
   "source": [
    "df = pd.DataFrame(y,x)"
   ]
  },
  {
   "cell_type": "code",
   "execution_count": null,
   "metadata": {
    "vscode": {
     "languageId": "plaintext"
    }
   },
   "outputs": [],
   "source": [
    "plt.plot(x,y)\n",
    "plt.xlabel('x')\n",
    "plt.ylabel('y')\n",
    "plt.title('$f(x) = −2 \\cdot sin(x)+x^2/10$')\n",
    "plt.show()"
   ]
  },
  {
   "cell_type": "markdown",
   "metadata": {},
   "source": [
    "For an increase of $h=0.1$ the maximum of $f(x)$ is on $x = 1.4$"
   ]
  },
  {
   "cell_type": "code",
   "execution_count": null,
   "metadata": {
    "vscode": {
     "languageId": "plaintext"
    }
   },
   "outputs": [],
   "source": [
    "k = 0\n",
    "h= 0.1\n",
    "x = np.arange(0,1,h)\n",
    "while (fun(x[k+1]) < fun(x[k])):\n",
    "  k= k + 1\n",
    "  print(f'{x[k]}, {fun(x[k])}')"
   ]
  }
 ],
 "metadata": {
  "language_info": {
   "name": "python"
  },
  "orig_nbformat": 4
 },
 "nbformat": 4,
 "nbformat_minor": 2
}
